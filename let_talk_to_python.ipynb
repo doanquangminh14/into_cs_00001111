{
 "cells": [
  {
   "cell_type": "code",
   "execution_count": 1,
   "id": "dbc0e603",
   "metadata": {},
   "outputs": [
    {
     "data": {
      "text/plain": [
       "9"
      ]
     },
     "execution_count": 1,
     "metadata": {},
     "output_type": "execute_result"
    }
   ],
   "source": [
    "1 + 2 + 6"
   ]
  },
  {
   "cell_type": "code",
   "execution_count": 2,
   "id": "5be0011d",
   "metadata": {},
   "outputs": [
    {
     "data": {
      "text/plain": [
       "-2"
      ]
     },
     "execution_count": 2,
     "metadata": {},
     "output_type": "execute_result"
    }
   ],
   "source": [
    "9-3-8"
   ]
  },
  {
   "cell_type": "code",
   "execution_count": 3,
   "id": "0a9b4108",
   "metadata": {},
   "outputs": [
    {
     "data": {
      "text/plain": [
       "27"
      ]
     },
     "execution_count": 3,
     "metadata": {},
     "output_type": "execute_result"
    }
   ],
   "source": [
    "9*3"
   ]
  },
  {
   "cell_type": "code",
   "execution_count": 4,
   "id": "d64a2c05",
   "metadata": {},
   "outputs": [
    {
     "data": {
      "text/plain": [
       "3.0"
      ]
     },
     "execution_count": 4,
     "metadata": {},
     "output_type": "execute_result"
    }
   ],
   "source": [
    "6/2"
   ]
  },
  {
   "cell_type": "code",
   "execution_count": 5,
   "id": "0ff4fb3c",
   "metadata": {},
   "outputs": [
    {
     "data": {
      "text/plain": [
       "4.0"
      ]
     },
     "execution_count": 5,
     "metadata": {},
     "output_type": "execute_result"
    }
   ],
   "source": [
    "8/2\n"
   ]
  },
  {
   "cell_type": "code",
   "execution_count": 6,
   "id": "11b35a62",
   "metadata": {},
   "outputs": [
    {
     "data": {
      "text/plain": [
       "3.3333333333333335"
      ]
     },
     "execution_count": 6,
     "metadata": {},
     "output_type": "execute_result"
    }
   ],
   "source": [
    "10/3"
   ]
  },
  {
   "cell_type": "code",
   "execution_count": 7,
   "id": "7e61f282",
   "metadata": {},
   "outputs": [
    {
     "data": {
      "text/plain": [
       "2.857142857142857"
      ]
     },
     "execution_count": 7,
     "metadata": {},
     "output_type": "execute_result"
    }
   ],
   "source": [
    "20/7"
   ]
  },
  {
   "cell_type": "code",
   "execution_count": 9,
   "id": "29c5d348",
   "metadata": {},
   "outputs": [
    {
     "data": {
      "text/plain": [
       "3.33333"
      ]
     },
     "execution_count": 9,
     "metadata": {},
     "output_type": "execute_result"
    }
   ],
   "source": [
    "round(10/3,5)"
   ]
  },
  {
   "cell_type": "code",
   "execution_count": 10,
   "id": "4a2152da",
   "metadata": {},
   "outputs": [
    {
     "data": {
      "text/plain": [
       "True"
      ]
     },
     "execution_count": 10,
     "metadata": {},
     "output_type": "execute_result"
    }
   ],
   "source": [
    "5<4+3"
   ]
  },
  {
   "cell_type": "code",
   "execution_count": 11,
   "id": "dbb3ed99",
   "metadata": {},
   "outputs": [
    {
     "data": {
      "text/plain": [
       "4"
      ]
     },
     "execution_count": 11,
     "metadata": {},
     "output_type": "execute_result"
    }
   ],
   "source": [
    "# phép chia lấy phân nguyên\n",
    "9//2"
   ]
  },
  {
   "cell_type": "code",
   "execution_count": 12,
   "id": "da1b1995",
   "metadata": {},
   "outputs": [
    {
     "data": {
      "text/plain": [
       "1"
      ]
     },
     "execution_count": 12,
     "metadata": {},
     "output_type": "execute_result"
    }
   ],
   "source": [
    "# phép chia lấy phần \n",
    "9%2"
   ]
  },
  {
   "cell_type": "code",
   "execution_count": 13,
   "id": "a703d4bb",
   "metadata": {},
   "outputs": [
    {
     "data": {
      "text/plain": [
       "81"
      ]
     },
     "execution_count": 13,
     "metadata": {},
     "output_type": "execute_result"
    }
   ],
   "source": [
    "# Lũy thừa\n",
    "3 ** 4\n"
   ]
  },
  {
   "cell_type": "code",
   "execution_count": 14,
   "id": "97103793",
   "metadata": {},
   "outputs": [
    {
     "data": {
      "text/plain": [
       "7"
      ]
     },
     "execution_count": 14,
     "metadata": {},
     "output_type": "execute_result"
    }
   ],
   "source": [
    "1+2*3+6-7+(5-4)"
   ]
  },
  {
   "cell_type": "markdown",
   "id": "0788162a",
   "metadata": {},
   "source": [
    "## Strings\n",
    "\n"
   ]
  },
  {
   "cell_type": "code",
   "execution_count": 15,
   "id": "a76761bc",
   "metadata": {},
   "outputs": [
    {
     "data": {
      "text/plain": [
       "'Hello!'"
      ]
     },
     "execution_count": 15,
     "metadata": {},
     "output_type": "execute_result"
    }
   ],
   "source": [
    "\"Hello!\""
   ]
  },
  {
   "cell_type": "code",
   "execution_count": 17,
   "id": "ec8842ec",
   "metadata": {},
   "outputs": [
    {
     "data": {
      "text/plain": [
       "'apple'"
      ]
     },
     "execution_count": 17,
     "metadata": {},
     "output_type": "execute_result"
    }
   ],
   "source": [
    "\"apple\""
   ]
  },
  {
   "cell_type": "code",
   "execution_count": 18,
   "id": "20c777d2",
   "metadata": {},
   "outputs": [
    {
     "data": {
      "text/plain": [
       "'3+5'"
      ]
     },
     "execution_count": 18,
     "metadata": {},
     "output_type": "execute_result"
    }
   ],
   "source": [
    "\"3+5\""
   ]
  },
  {
   "cell_type": "markdown",
   "id": "ba94ef44",
   "metadata": {},
   "source": [
    "### Strings operators\n",
    "concatenation: +\n",
    "\n",
    "multiplication: *"
   ]
  },
  {
   "cell_type": "code",
   "execution_count": 19,
   "id": "f573fbe3",
   "metadata": {},
   "outputs": [
    {
     "data": {
      "text/plain": [
       "'Hithere!'"
      ]
     },
     "execution_count": 19,
     "metadata": {},
     "output_type": "execute_result"
    }
   ],
   "source": [
    "\"Hi\"+\"there!\""
   ]
  },
  {
   "cell_type": "code",
   "execution_count": 20,
   "id": "18796dcf",
   "metadata": {},
   "outputs": [
    {
     "data": {
      "text/plain": [
       "'HiHiHiHiHiHiHiHiHiHiHiHiHiHiHiHiHiHiHiHiHiHiHiHiHiHiHiHiHiHiHiHiHiHiHiHiHiHiHiHiHiHiHiHiHiHiHiHiHiHiHiHiHiHiHiHiHiHiHiHiHiHiHiHiHiHiHiHiHiHiHiHiHiHiHiHiHiHiHiHiHiHiHiHiHiHiHiHiHiHiHiHiHiHiHiHiHiHiHiHiHiHiHiHiHiHiHiHiHiHiHiHiHiHiHiHiHiHiHiHiHiHiHiHiHiHiHiHiHiHiHiHiHiHiHiHiHiHiHiHiHiHiHiHiHiHiHiHiHiHiHiHiHiHiHiHiHiHiHiHiHiHiHiHiHiHiHiHiHiHiHiHiHiHiHiHiHiHiHiHiHiHiHiHiHiHiHiHiHiHiHiHiHiHiHiHiHiHiHiHiHiHiHiHiHiHiHiHiHiHiHiHiHiHiHiHiHiHiHiHiHiHiHiHiHiHiHiHiHiHiHiHiHiHiHiHiHiHiHiHiHiHiHiHiHiHiHiHiHiHi'"
      ]
     },
     "execution_count": 20,
     "metadata": {},
     "output_type": "execute_result"
    }
   ],
   "source": [
    "\"Hi\"*250"
   ]
  },
  {
   "cell_type": "markdown",
   "id": "c357d2f8",
   "metadata": {},
   "source": [
    "### Strings Index\n",
    " Rules:\n",
    " - Indexes start at 0\n",
    " - Spaces inside Indexes start at 0.\n",
    "\n",
    "\n"
   ]
  },
  {
   "cell_type": "code",
   "execution_count": 21,
   "id": "b1e05082",
   "metadata": {},
   "outputs": [
    {
     "data": {
      "text/plain": [
       "'Hello'"
      ]
     },
     "execution_count": 21,
     "metadata": {},
     "output_type": "execute_result"
    }
   ],
   "source": [
    "\"H\"+\"e\"+\"l\"+\"l\"+\"o\""
   ]
  },
  {
   "cell_type": "code",
   "execution_count": 22,
   "id": "906b8291",
   "metadata": {},
   "outputs": [
    {
     "data": {
      "text/plain": [
       "'H'"
      ]
     },
     "execution_count": 22,
     "metadata": {},
     "output_type": "execute_result"
    }
   ],
   "source": [
    "\"Hello\"[0]"
   ]
  },
  {
   "cell_type": "code",
   "execution_count": 23,
   "id": "ff0a9183",
   "metadata": {},
   "outputs": [
    {
     "data": {
      "text/plain": [
       "'o'"
      ]
     },
     "execution_count": 23,
     "metadata": {},
     "output_type": "execute_result"
    }
   ],
   "source": [
    "\"Hello\"[4]"
   ]
  },
  {
   "cell_type": "code",
   "execution_count": 24,
   "id": "212167d2",
   "metadata": {},
   "outputs": [
    {
     "data": {
      "text/plain": [
       "' '"
      ]
     },
     "execution_count": 24,
     "metadata": {},
     "output_type": "execute_result"
    }
   ],
   "source": [
    "\"hey, Trang!\"[4]"
   ]
  },
  {
   "cell_type": "markdown",
   "id": "1f44cabb",
   "metadata": {},
   "source": [
    " ### String functions\n",
    " "
   ]
  },
  {
   "cell_type": "code",
   "execution_count": 25,
   "id": "24190667",
   "metadata": {},
   "outputs": [
    {
     "data": {
      "text/plain": [
       "'MAI XUAN TRANG'"
      ]
     },
     "execution_count": 25,
     "metadata": {},
     "output_type": "execute_result"
    }
   ],
   "source": [
    "\"mai xuan trang\".upper()"
   ]
  },
  {
   "cell_type": "code",
   "execution_count": 26,
   "id": "146ce54b",
   "metadata": {},
   "outputs": [
    {
     "data": {
      "text/plain": [
       "'mai xuân tráng'"
      ]
     },
     "execution_count": 26,
     "metadata": {},
     "output_type": "execute_result"
    }
   ],
   "source": [
    "\"MAI XUÂN TRÁNG\".lower()"
   ]
  },
  {
   "cell_type": "code",
   "execution_count": 27,
   "id": "22051b1b",
   "metadata": {},
   "outputs": [
    {
     "data": {
      "text/plain": [
       "16"
      ]
     },
     "execution_count": 27,
     "metadata": {},
     "output_type": "execute_result"
    }
   ],
   "source": [
    "len(\"This is a string\")"
   ]
  },
  {
   "cell_type": "code",
   "execution_count": 28,
   "id": "6709eeac",
   "metadata": {},
   "outputs": [
    {
     "data": {
      "text/plain": [
       "'This is a string'"
      ]
     },
     "execution_count": 28,
     "metadata": {},
     "output_type": "execute_result"
    }
   ],
   "source": [
    "\"   This is a string   \".strip()"
   ]
  },
  {
   "cell_type": "code",
   "execution_count": 29,
   "id": "328b0a5a",
   "metadata": {},
   "outputs": [
    {
     "data": {
      "text/plain": [
       "True"
      ]
     },
     "execution_count": 29,
     "metadata": {},
     "output_type": "execute_result"
    }
   ],
   "source": [
    "\"#This is a string\".startswith(\"#\")"
   ]
  },
  {
   "cell_type": "code",
   "execution_count": 30,
   "id": "2902562a",
   "metadata": {},
   "outputs": [
    {
     "data": {
      "text/plain": [
       "False"
      ]
     },
     "execution_count": 30,
     "metadata": {},
     "output_type": "execute_result"
    }
   ],
   "source": [
    "\"#This is a string\".startswith(\"*\")"
   ]
  },
  {
   "cell_type": "code",
   "execution_count": 31,
   "id": "9661f914",
   "metadata": {},
   "outputs": [
    {
     "data": {
      "text/plain": [
       "''"
      ]
     },
     "execution_count": 31,
     "metadata": {},
     "output_type": "execute_result"
    }
   ],
   "source": [
    "\"Hello World!\"[1:10:-1]"
   ]
  },
  {
   "cell_type": "code",
   "execution_count": 32,
   "id": "e7045d0b",
   "metadata": {},
   "outputs": [
    {
     "data": {
      "text/plain": [
       "'!dlroW olleH'"
      ]
     },
     "execution_count": 32,
     "metadata": {},
     "output_type": "execute_result"
    }
   ],
   "source": [
    "\"Hello World!\"[::-1]"
   ]
  },
  {
   "cell_type": "markdown",
   "id": "f57c75d2",
   "metadata": {},
   "source": [
    "### Variables\n"
   ]
  },
  {
   "cell_type": "code",
   "execution_count": 33,
   "id": "e2874a57",
   "metadata": {},
   "outputs": [
    {
     "data": {
      "text/plain": [
       "'hello world!'"
      ]
     },
     "execution_count": 33,
     "metadata": {},
     "output_type": "execute_result"
    }
   ],
   "source": [
    "\"hello world!\""
   ]
  },
  {
   "cell_type": "code",
   "execution_count": null,
   "id": "93bc0ee1",
   "metadata": {},
   "outputs": [],
   "source": []
  },
  {
   "cell_type": "code",
   "execution_count": 36,
   "id": "c14066e0",
   "metadata": {},
   "outputs": [
    {
     "name": "stdout",
     "output_type": "stream",
     "text": [
      "Hello World!\n"
     ]
    }
   ],
   "source": [
    "print(\"Hello World!\")"
   ]
  },
  {
   "cell_type": "code",
   "execution_count": null,
   "id": "70b9fe74",
   "metadata": {},
   "outputs": [],
   "source": []
  },
  {
   "cell_type": "code",
   "execution_count": null,
   "id": "014b735c",
   "metadata": {},
   "outputs": [],
   "source": []
  },
  {
   "cell_type": "code",
   "execution_count": null,
   "id": "3bdbbdc4",
   "metadata": {},
   "outputs": [],
   "source": []
  },
  {
   "cell_type": "code",
   "execution_count": null,
   "id": "f3fb7662",
   "metadata": {},
   "outputs": [],
   "source": []
  },
  {
   "cell_type": "code",
   "execution_count": null,
   "id": "d9dd2a1f",
   "metadata": {},
   "outputs": [],
   "source": []
  },
  {
   "cell_type": "code",
   "execution_count": null,
   "id": "9483b0f2",
   "metadata": {},
   "outputs": [],
   "source": []
  },
  {
   "cell_type": "markdown",
   "id": "61fba358",
   "metadata": {},
   "source": [
    "### Types of data"
   ]
  },
  {
   "cell_type": "code",
   "execution_count": 1,
   "id": "68c12d05",
   "metadata": {},
   "outputs": [],
   "source": [
    "s=\"Hello\""
   ]
  },
  {
   "cell_type": "code",
   "execution_count": 2,
   "id": "5e5ff0b7",
   "metadata": {},
   "outputs": [
    {
     "data": {
      "text/plain": [
       "str"
      ]
     },
     "execution_count": 2,
     "metadata": {},
     "output_type": "execute_result"
    }
   ],
   "source": [
    "type(s)"
   ]
  },
  {
   "cell_type": "code",
   "execution_count": 3,
   "id": "dd29c460",
   "metadata": {},
   "outputs": [],
   "source": [
    "s=5"
   ]
  },
  {
   "cell_type": "code",
   "execution_count": 4,
   "id": "92791f0f",
   "metadata": {},
   "outputs": [
    {
     "data": {
      "text/plain": [
       "int"
      ]
     },
     "execution_count": 4,
     "metadata": {},
     "output_type": "execute_result"
    }
   ],
   "source": [
    "type(s)"
   ]
  },
  {
   "cell_type": "code",
   "execution_count": 5,
   "id": "122b4a54",
   "metadata": {},
   "outputs": [],
   "source": [
    "s=14.6"
   ]
  },
  {
   "cell_type": "code",
   "execution_count": 6,
   "id": "cfcb4afa",
   "metadata": {},
   "outputs": [
    {
     "data": {
      "text/plain": [
       "float"
      ]
     },
     "execution_count": 6,
     "metadata": {},
     "output_type": "execute_result"
    }
   ],
   "source": [
    "type(s)"
   ]
  },
  {
   "cell_type": "markdown",
   "id": "b3a439a8",
   "metadata": {},
   "source": [
    "### Booleans\n"
   ]
  },
  {
   "cell_type": "code",
   "execution_count": 7,
   "id": "b9297b16",
   "metadata": {},
   "outputs": [
    {
     "data": {
      "text/plain": [
       "True"
      ]
     },
     "execution_count": 7,
     "metadata": {},
     "output_type": "execute_result"
    }
   ],
   "source": [
    "True"
   ]
  },
  {
   "cell_type": "code",
   "execution_count": 8,
   "id": "46da1947",
   "metadata": {},
   "outputs": [
    {
     "data": {
      "text/plain": [
       "False"
      ]
     },
     "execution_count": 8,
     "metadata": {},
     "output_type": "execute_result"
    }
   ],
   "source": [
    "False"
   ]
  },
  {
   "cell_type": "code",
   "execution_count": 9,
   "id": "e4abecd8",
   "metadata": {},
   "outputs": [
    {
     "data": {
      "text/plain": [
       "True"
      ]
     },
     "execution_count": 9,
     "metadata": {},
     "output_type": "execute_result"
    }
   ],
   "source": [
    "1==1"
   ]
  },
  {
   "cell_type": "code",
   "execution_count": 10,
   "id": "b8cf7355",
   "metadata": {},
   "outputs": [
    {
     "data": {
      "text/plain": [
       "True"
      ]
     },
     "execution_count": 10,
     "metadata": {},
     "output_type": "execute_result"
    }
   ],
   "source": [
    "# and\n",
    "1==1 and 2!=4"
   ]
  },
  {
   "cell_type": "code",
   "execution_count": 11,
   "id": "dde2c566",
   "metadata": {},
   "outputs": [
    {
     "data": {
      "text/plain": [
       "False"
      ]
     },
     "execution_count": 11,
     "metadata": {},
     "output_type": "execute_result"
    }
   ],
   "source": [
    "1==1 and 2==3"
   ]
  },
  {
   "cell_type": "code",
   "execution_count": 12,
   "id": "e378b41d",
   "metadata": {},
   "outputs": [
    {
     "data": {
      "text/plain": [
       "True"
      ]
     },
     "execution_count": 12,
     "metadata": {},
     "output_type": "execute_result"
    }
   ],
   "source": [
    "# or\n",
    "1==1 or 2==3"
   ]
  },
  {
   "cell_type": "markdown",
   "id": "1b79d35e",
   "metadata": {},
   "source": [
    "### List(danh sách)\n"
   ]
  },
  {
   "cell_type": "code",
   "execution_count": 13,
   "id": "d8563b3a",
   "metadata": {},
   "outputs": [],
   "source": [
    "fruit = [\"apple\",\"banana\",\"grape\"]"
   ]
  },
  {
   "cell_type": "code",
   "execution_count": 14,
   "id": "00d15931",
   "metadata": {},
   "outputs": [
    {
     "data": {
      "text/plain": [
       "list"
      ]
     },
     "execution_count": 14,
     "metadata": {},
     "output_type": "execute_result"
    }
   ],
   "source": [
    "type(fruit)"
   ]
  },
  {
   "cell_type": "code",
   "execution_count": 15,
   "id": "d715bc46",
   "metadata": {},
   "outputs": [],
   "source": [
    "numbers=[3,17,-4,8.8,1]"
   ]
  },
  {
   "cell_type": "code",
   "execution_count": 16,
   "id": "7400caae",
   "metadata": {},
   "outputs": [
    {
     "data": {
      "text/plain": [
       "list"
      ]
     },
     "execution_count": 16,
     "metadata": {},
     "output_type": "execute_result"
    }
   ],
   "source": [
    "type(numbers)"
   ]
  },
  {
   "cell_type": "code",
   "execution_count": 17,
   "id": "7523504c",
   "metadata": {},
   "outputs": [],
   "source": [
    "ls=[1,2,\"apple\",\"banana\"]"
   ]
  },
  {
   "cell_type": "code",
   "execution_count": 18,
   "id": "2237d282",
   "metadata": {},
   "outputs": [
    {
     "data": {
      "text/plain": [
       "list"
      ]
     },
     "execution_count": 18,
     "metadata": {},
     "output_type": "execute_result"
    }
   ],
   "source": [
    "type(ls)"
   ]
  },
  {
   "cell_type": "code",
   "execution_count": 21,
   "id": "11ab093c",
   "metadata": {},
   "outputs": [],
   "source": [
    "colors=[\"red\",\"white\",\"black\"]"
   ]
  },
  {
   "cell_type": "code",
   "execution_count": 22,
   "id": "f1826ca2",
   "metadata": {},
   "outputs": [
    {
     "data": {
      "text/plain": [
       "list"
      ]
     },
     "execution_count": 22,
     "metadata": {},
     "output_type": "execute_result"
    }
   ],
   "source": [
    "type(colors)"
   ]
  },
  {
   "cell_type": "code",
   "execution_count": 23,
   "id": "66239d14",
   "metadata": {},
   "outputs": [
    {
     "data": {
      "text/plain": [
       "'black'"
      ]
     },
     "execution_count": 23,
     "metadata": {},
     "output_type": "execute_result"
    }
   ],
   "source": [
    "colors[2]"
   ]
  },
  {
   "cell_type": "code",
   "execution_count": 24,
   "id": "6f80c73a",
   "metadata": {},
   "outputs": [
    {
     "data": {
      "text/plain": [
       "'red'"
      ]
     },
     "execution_count": 24,
     "metadata": {},
     "output_type": "execute_result"
    }
   ],
   "source": [
    "colors[0]"
   ]
  },
  {
   "cell_type": "markdown",
   "id": "dbf461eb",
   "metadata": {},
   "source": [
    "### Một hàm / phương thức trong list\n",
    "  "
   ]
  },
  {
   "cell_type": "markdown",
   "id": "1e425fe2",
   "metadata": {},
   "source": [
    " Slicing: Lấy ra danh sách con\n",
    " \n",
    " ls[begin:end:step]"
   ]
  },
  {
   "cell_type": "code",
   "execution_count": 25,
   "id": "e986da8b",
   "metadata": {},
   "outputs": [],
   "source": [
    "lst=[10,20,30,40,50,60,70,80,90]"
   ]
  },
  {
   "cell_type": "code",
   "execution_count": 26,
   "id": "a26d2cc0",
   "metadata": {},
   "outputs": [
    {
     "data": {
      "text/plain": [
       "[10, 20, 30]"
      ]
     },
     "execution_count": 26,
     "metadata": {},
     "output_type": "execute_result"
    }
   ],
   "source": [
    "lst[0:3]"
   ]
  },
  {
   "cell_type": "code",
   "execution_count": 27,
   "id": "a512c4f6",
   "metadata": {},
   "outputs": [
    {
     "data": {
      "text/plain": [
       "[50, 60, 70, 80]"
      ]
     },
     "execution_count": 27,
     "metadata": {},
     "output_type": "execute_result"
    }
   ],
   "source": [
    "lst[4:8]"
   ]
  },
  {
   "cell_type": "code",
   "execution_count": 29,
   "id": "ad180ba7",
   "metadata": {},
   "outputs": [
    {
     "data": {
      "text/plain": [
       "[50, 60]"
      ]
     },
     "execution_count": 29,
     "metadata": {},
     "output_type": "execute_result"
    }
   ],
   "source": [
    "lst[-5:-3]"
   ]
  },
  {
   "cell_type": "code",
   "execution_count": 30,
   "id": "f3d19a06",
   "metadata": {},
   "outputs": [
    {
     "data": {
      "text/plain": [
       "[10, 20, 30, 40, 50, 60, 70, 80, 90]"
      ]
     },
     "execution_count": 30,
     "metadata": {},
     "output_type": "execute_result"
    }
   ],
   "source": [
    "lst[::]"
   ]
  },
  {
   "cell_type": "code",
   "execution_count": 31,
   "id": "18913e6b",
   "metadata": {},
   "outputs": [
    {
     "data": {
      "text/plain": [
       "[10, 30, 50, 70, 90]"
      ]
     },
     "execution_count": 31,
     "metadata": {},
     "output_type": "execute_result"
    }
   ],
   "source": [
    "lst[::2]"
   ]
  },
  {
   "cell_type": "code",
   "execution_count": 32,
   "id": "12274d68",
   "metadata": {},
   "outputs": [
    {
     "data": {
      "text/plain": [
       "[90, 80, 70, 60, 50, 40, 30, 20, 10]"
      ]
     },
     "execution_count": 32,
     "metadata": {},
     "output_type": "execute_result"
    }
   ],
   "source": [
    "lst[::-1]"
   ]
  },
  {
   "cell_type": "markdown",
   "id": "4578f6ca",
   "metadata": {},
   "source": [
    "### Functions (Hàm)\n"
   ]
  },
  {
   "cell_type": "code",
   "execution_count": 1,
   "id": "cf50b0f9",
   "metadata": {},
   "outputs": [],
   "source": [
    "def say_hello():\n",
    "    print(\"Hello world!\")\n",
    "    "
   ]
  },
  {
   "cell_type": "code",
   "execution_count": 2,
   "id": "dfe38b65",
   "metadata": {},
   "outputs": [
    {
     "name": "stdout",
     "output_type": "stream",
     "text": [
      "Hello world!\n"
     ]
    }
   ],
   "source": [
    "say_hello()"
   ]
  },
  {
   "cell_type": "code",
   "execution_count": 3,
   "id": "eb6e252f",
   "metadata": {},
   "outputs": [],
   "source": [
    "# Có tham số\n",
    "def say_hello(myname):\n",
    "    print(\"Hello\", myname)"
   ]
  },
  {
   "cell_type": "code",
   "execution_count": 4,
   "id": "894642d9",
   "metadata": {},
   "outputs": [
    {
     "name": "stdout",
     "output_type": "stream",
     "text": [
      "Hello Trang\n"
     ]
    }
   ],
   "source": [
    "say_hello(\"Trang\")"
   ]
  },
  {
   "cell_type": "code",
   "execution_count": 5,
   "id": "c622203f",
   "metadata": {},
   "outputs": [
    {
     "name": "stdout",
     "output_type": "stream",
     "text": [
      "Hello Lam\n"
     ]
    }
   ],
   "source": [
    "say_hello(\"Lam\")"
   ]
  },
  {
   "cell_type": "markdown",
   "id": "74c36c5b",
   "metadata": {},
   "source": [
    "Bài tập:\n",
    "  Viết một hàm : kiểm tra một số, in ra màn hình \"là số lẻ\"nếu số đó là sso lẻ , \"là số chẵn\" nếu số là số đó là số chắn "
   ]
  },
  {
   "cell_type": "code",
   "execution_count": 11,
   "id": "aa3947a3",
   "metadata": {},
   "outputs": [],
   "source": [
    "def check_num(mynum):\n",
    "    if mynum % 2==0:\n",
    "        print(\"là số chẵn\")\n",
    "    else:\n",
    "        print(\"là số lẻ\")"
   ]
  },
  {
   "cell_type": "code",
   "execution_count": 12,
   "id": "cef3ff28",
   "metadata": {},
   "outputs": [
    {
     "name": "stdout",
     "output_type": "stream",
     "text": [
      "là số lẻ\n"
     ]
    }
   ],
   "source": [
    "check_num(5)"
   ]
  },
  {
   "cell_type": "code",
   "execution_count": 13,
   "id": "6b8de25e",
   "metadata": {},
   "outputs": [
    {
     "name": "stdout",
     "output_type": "stream",
     "text": [
      "là số chẵn\n"
     ]
    }
   ],
   "source": [
    "check_num(8)"
   ]
  },
  {
   "cell_type": "markdown",
   "id": "bb9c6a01",
   "metadata": {},
   "source": [
    "Viết một hàm có tham số là 2 số , in ra kết quả là tích của 2 số đó\n"
   ]
  },
  {
   "cell_type": "code",
   "execution_count": 15,
   "id": "6bbd64ee",
   "metadata": {},
   "outputs": [],
   "source": [
    "def multiply(num1, num2):\n",
    "    print(num1 * num2)"
   ]
  },
  {
   "cell_type": "code",
   "execution_count": 16,
   "id": "3f512f7c",
   "metadata": {},
   "outputs": [
    {
     "name": "stdout",
     "output_type": "stream",
     "text": [
      "10\n"
     ]
    }
   ],
   "source": [
    "multiply(2,5)"
   ]
  },
  {
   "cell_type": "code",
   "execution_count": 17,
   "id": "35e600f7",
   "metadata": {},
   "outputs": [
    {
     "name": "stdout",
     "output_type": "stream",
     "text": [
      "332445\n"
     ]
    }
   ],
   "source": [
    "multiply(599,555)"
   ]
  },
  {
   "cell_type": "markdown",
   "id": "d8944a6a",
   "metadata": {},
   "source": [
    "## Functions: Output(Giá trị trả về của hàm)"
   ]
  },
  {
   "cell_type": "code",
   "execution_count": 18,
   "id": "568d1ad2",
   "metadata": {},
   "outputs": [
    {
     "name": "stdout",
     "output_type": "stream",
     "text": [
      "12\n"
     ]
    }
   ],
   "source": [
    "multiply(2,6)"
   ]
  },
  {
   "cell_type": "code",
   "execution_count": 19,
   "id": "462d5ec2",
   "metadata": {},
   "outputs": [
    {
     "name": "stdout",
     "output_type": "stream",
     "text": [
      "12\n"
     ]
    }
   ],
   "source": [
    "kq=multiply(2,6)"
   ]
  },
  {
   "cell_type": "code",
   "execution_count": 20,
   "id": "2be769e0",
   "metadata": {},
   "outputs": [],
   "source": [
    "kq"
   ]
  },
  {
   "cell_type": "code",
   "execution_count": 23,
   "id": "3c3fd410",
   "metadata": {},
   "outputs": [],
   "source": [
    "def multiply(num1, num2):\n",
    "\n",
    "    return num1*num2"
   ]
  },
  {
   "cell_type": "code",
   "execution_count": 24,
   "id": "9086e52c",
   "metadata": {},
   "outputs": [
    {
     "data": {
      "text/plain": [
       "12"
      ]
     },
     "execution_count": 24,
     "metadata": {},
     "output_type": "execute_result"
    }
   ],
   "source": [
    "multiply(2,6)"
   ]
  },
  {
   "cell_type": "code",
   "execution_count": 25,
   "id": "dc2b986c",
   "metadata": {},
   "outputs": [],
   "source": [
    "kq=multiply(2,6)"
   ]
  },
  {
   "cell_type": "code",
   "execution_count": 26,
   "id": "ab124337",
   "metadata": {},
   "outputs": [
    {
     "data": {
      "text/plain": [
       "12"
      ]
     },
     "execution_count": 26,
     "metadata": {},
     "output_type": "execute_result"
    }
   ],
   "source": [
    "kq"
   ]
  },
  {
   "cell_type": "markdown",
   "id": "78e87187",
   "metadata": {},
   "source": [
    "## Input\n"
   ]
  },
  {
   "cell_type": "code",
   "execution_count": 27,
   "id": "8fca18fe",
   "metadata": {},
   "outputs": [],
   "source": [
    "def hello_there():\n",
    "    print (\"Type your name:\")\n",
    "    name=input()\n",
    "    print(\"Hi\",name,\"how are you?\")"
   ]
  },
  {
   "cell_type": "code",
   "execution_count": 29,
   "id": "7896bf83",
   "metadata": {},
   "outputs": [
    {
     "name": "stdout",
     "output_type": "stream",
     "text": [
      "Type your name:\n",
      "Minh\n",
      "Hi Minh how are you?\n"
     ]
    }
   ],
   "source": [
    "hello_there()"
   ]
  },
  {
   "cell_type": "markdown",
   "id": "e8bde842",
   "metadata": {},
   "source": [
    "## Modules"
   ]
  },
  {
   "cell_type": "code",
   "execution_count": 34,
   "id": "ce39537c",
   "metadata": {},
   "outputs": [],
   "source": [
    "import random\n"
   ]
  },
  {
   "cell_type": "code",
   "execution_count": 35,
   "id": "8df45501",
   "metadata": {},
   "outputs": [
    {
     "data": {
      "text/plain": [
       "97"
      ]
     },
     "execution_count": 35,
     "metadata": {},
     "output_type": "execute_result"
    }
   ],
   "source": [
    "random.randint(1,100)"
   ]
  },
  {
   "cell_type": "code",
   "execution_count": 36,
   "id": "58e7c4f7",
   "metadata": {},
   "outputs": [
    {
     "ename": "SyntaxError",
     "evalue": "invalid syntax (2494350585.py, line 1)",
     "output_type": "error",
     "traceback": [
      "\u001b[0;36m  Cell \u001b[0;32mIn [36], line 1\u001b[0;36m\u001b[0m\n\u001b[0;31m    import\u001b[0m\n\u001b[0m           ^\u001b[0m\n\u001b[0;31mSyntaxError\u001b[0m\u001b[0;31m:\u001b[0m invalid syntax\n"
     ]
    }
   ],
   "source": [
    "import "
   ]
  },
  {
   "cell_type": "code",
   "execution_count": 37,
   "id": "6ae220d1",
   "metadata": {},
   "outputs": [
    {
     "ename": "NameError",
     "evalue": "name 'mymodule' is not defined",
     "output_type": "error",
     "traceback": [
      "\u001b[0;31m---------------------------------------------------------------------------\u001b[0m",
      "\u001b[0;31mNameError\u001b[0m                                 Traceback (most recent call last)",
      "Cell \u001b[0;32mIn [37], line 1\u001b[0m\n\u001b[0;32m----> 1\u001b[0m \u001b[43mmymodule\u001b[49m\u001b[38;5;241m.\u001b[39mcheck_num(\u001b[38;5;241m5\u001b[39m)\n",
      "\u001b[0;31mNameError\u001b[0m: name 'mymodule' is not defined"
     ]
    }
   ],
   "source": [
    "mymodule.check_num(5)"
   ]
  },
  {
   "cell_type": "markdown",
   "id": "2675f4d6",
   "metadata": {},
   "source": [
    "## Let make game"
   ]
  },
  {
   "cell_type": "code",
   "execution_count": 48,
   "id": "d955baf8",
   "metadata": {},
   "outputs": [
    {
     "ename": "IndentationError",
     "evalue": "expected an indented block (3748286597.py, line 2)",
     "output_type": "error",
     "traceback": [
      "\u001b[0;36m  Cell \u001b[0;32mIn [48], line 2\u001b[0;36m\u001b[0m\n\u001b[0;31m    from random import randint\u001b[0m\n\u001b[0m    ^\u001b[0m\n\u001b[0;31mIndentationError\u001b[0m\u001b[0;31m:\u001b[0m expected an indented block\n"
     ]
    }
   ],
   "source": []
  },
  {
   "cell_type": "markdown",
   "id": "9bae9819",
   "metadata": {},
   "source": [
    "viết hàm guess1 chưa code slide 71"
   ]
  },
  {
   "cell_type": "code",
   "execution_count": 43,
   "id": "16f98b55",
   "metadata": {},
   "outputs": [],
   "source": [
    "def guess1():\n",
    "    secret_number = 7\n",
    "    guess = input(\"What number am I thinking of? \")\n",
    "\n",
    "    if secret_number == guess:\n",
    "        print(\"Yay! You got it.\")\n",
    "    else:\n",
    "        print(\"No, that's not it.\")"
   ]
  },
  {
   "cell_type": "code",
   "execution_count": 47,
   "id": "b5148dda",
   "metadata": {},
   "outputs": [
    {
     "name": "stdout",
     "output_type": "stream",
     "text": [
      "What number am I thinking of? 7\n",
      "No, that's not it.\n"
     ]
    }
   ],
   "source": [
    "guess1()"
   ]
  },
  {
   "cell_type": "markdown",
   "id": "00acd1f9",
   "metadata": {},
   "source": [
    "## Docstring(Hướng dẫn sử dụng hàm)"
   ]
  },
  {
   "cell_type": "code",
   "execution_count": 50,
   "id": "d57057f9",
   "metadata": {},
   "outputs": [],
   "source": [
    "random.randint?"
   ]
  },
  {
   "cell_type": "code",
   "execution_count": 51,
   "id": "4810d3ec",
   "metadata": {},
   "outputs": [
    {
     "ename": "ModuleNotFoundError",
     "evalue": "No module named 'guessgames'",
     "output_type": "error",
     "traceback": [
      "\u001b[0;31m---------------------------------------------------------------------------\u001b[0m",
      "\u001b[0;31mModuleNotFoundError\u001b[0m                       Traceback (most recent call last)",
      "Cell \u001b[0;32mIn [51], line 1\u001b[0m\n\u001b[0;32m----> 1\u001b[0m \u001b[38;5;28;01mimport\u001b[39;00m \u001b[38;5;21;01mguessgames\u001b[39;00m\n",
      "\u001b[0;31mModuleNotFoundError\u001b[0m: No module named 'guessgames'"
     ]
    }
   ],
   "source": [
    "import guessgames"
   ]
  },
  {
   "cell_type": "markdown",
   "id": "ea6d8bd1",
   "metadata": {},
   "source": [
    "## Auto reload module"
   ]
  },
  {
   "cell_type": "code",
   "execution_count": null,
   "id": "727eeba7",
   "metadata": {},
   "outputs": [],
   "source": [
    "%load_ext autore"
   ]
  }
 ],
 "metadata": {
  "kernelspec": {
   "display_name": "Python 3 (ipykernel)",
   "language": "python",
   "name": "python3"
  },
  "language_info": {
   "codemirror_mode": {
    "name": "ipython",
    "version": 3
   },
   "file_extension": ".py",
   "mimetype": "text/x-python",
   "name": "python",
   "nbconvert_exporter": "python",
   "pygments_lexer": "ipython3",
   "version": "3.9.7"
  }
 },
 "nbformat": 4,
 "nbformat_minor": 5
}
